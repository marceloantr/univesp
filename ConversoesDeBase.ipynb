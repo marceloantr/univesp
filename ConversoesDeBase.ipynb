{
  "nbformat": 4,
  "nbformat_minor": 0,
  "metadata": {
    "colab": {
      "name": "ConversoesDeBase",
      "provenance": [],
      "include_colab_link": true
    },
    "kernelspec": {
      "name": "python3",
      "display_name": "Python 3"
    },
    "language_info": {
      "name": "python"
    }
  },
  "cells": [
    {
      "cell_type": "markdown",
      "metadata": {
        "id": "view-in-github",
        "colab_type": "text"
      },
      "source": [
        "<a href=\"https://colab.research.google.com/github/marceloantr/univesp/blob/master/ConversoesDeBase.ipynb\" target=\"_parent\"><img src=\"https://colab.research.google.com/assets/colab-badge.svg\" alt=\"Open In Colab\"/></a>"
      ]
    },
    {
      "cell_type": "markdown",
      "metadata": {
        "id": "_cojp7IzGqq8"
      },
      "source": [
        "# Conversões de base e representação numérica\n",
        "\n",
        "## Introdução \n",
        "Neste texto introdutório, irei abordar o tema da representação numérica, de maneira prática, ensinando alguns conceitos elementares de programação em paralelo aos conceitos matemáticos.\n",
        "\n",
        "o objetivo deste pequeno tutorial é ensinar rudimentos básicos de Python, ao mesmo tempo que trato de um assunto de matemática básica que não deveria ser apresentado de maneira tão confusa, e que, creio eu, pode ser melhor aprendido praticando do que através de explanações abstratas.\n",
        "\n",
        "Não estou pressupondo nenhum conhecimento prévio em programação, mas alguma familiaridade com matemática e uma imaginação preparada, em algumas partes do texto.\n",
        "\n",
        "## Sobre variáveis\n",
        "\n",
        "Na grande maioria das linguagens de programação, uma operação essencial consiste na **declaração de variáveis**; de forma complementar a essa declaração, usualmente se faz a **atribuição de valor** à variável.\n",
        "\n",
        "Uma variável é uma grandeza matemática cujo valor pode ser alterado no tempo. Em programação, as variáveis são úteis para armazenar valores que podem sofrer mudança, e podem ser usadas como parâmetros para operações ou aplicação de funções (série de comandos executados sobre variáveis e que retornam como resultado uma outra variável, ou a variável inicial modificada).\n",
        "\n",
        "Em [Python](https://www.python.org/), a declaração da variável ocorre simultaneamente à atribuição de valor. A atribuição de valor é feita através do operador de atribuição '='. Ou seja, uma variável só surge em um programa *Python* a partir do momento em que se atribui um valor a ela. Uma variável é identificada a partir de uma sequência de caracteres (letras, números ou underscore (_)), sendo que obrigatoriamente o primeiro caractere deve ser uma letra ou underscore. O código abaixo declara duas variáveis, *ano*, que recebe o valor 2021, e *mes*, que recebe o valor 10:"
      ]
    },
    {
      "cell_type": "code",
      "metadata": {
        "id": "ZcwCqoX0Itup"
      },
      "source": [
        "ano = 2021\n",
        "mes = 10"
      ],
      "execution_count": null,
      "outputs": []
    },
    {
      "cell_type": "markdown",
      "metadata": {
        "id": "YRTlDYIbJLA3"
      },
      "source": [
        "Embora em Python as variáveis possam receber acentuação, uma convenção recomendada de código é evitar usar as letras acentuadas ou com demais sinais gráficos, pois algumas linguagens não permitem esse tipo de caractere na nomenclatura de variáveis ou comandos.\n",
        "\n",
        "Uma segunda observação deve ser feita com relação ao operador '='. Embora ele possa ser lido como *igual*, deve-se ter em mente que existe o operador de comparação, que faz um teste sobre duas variáveis e informa se elas são ou não idênticas/iguais. Em Python e em algumas outras linguagens, o operador de comparação é o '=='. Em outras linguagens podem haver outras convenções para o operador de atribuição e do comparação; por exemplo, em [Pascal](https://pt.wikipedia.org/wiki/Pascal_(linguagem_de_programa%C3%A7%C3%A3o)), a atribuição é feita com o operador ':=', e a comparação com o '=' simples. Em [R](https://pt.wikipedia.org/wiki/R_(linguagem_de_programa%C3%A7%C3%A3o)), por outro lado, há dois operadores de atribuição ('=' ou '<-'), com ligeiras diferenças entre si. Exemplo de comparação em Python:"
      ]
    },
    {
      "cell_type": "code",
      "metadata": {
        "id": "_mbbi1YHKKCQ",
        "colab": {
          "base_uri": "https://localhost:8080/"
        },
        "outputId": "fe2da7d3-5518-48f8-eda8-00dca471ce41"
      },
      "source": [
        "ano == 2021"
      ],
      "execution_count": null,
      "outputs": [
        {
          "output_type": "execute_result",
          "data": {
            "text/plain": [
              "True"
            ]
          },
          "metadata": {},
          "execution_count": 2
        }
      ]
    },
    {
      "cell_type": "markdown",
      "metadata": {
        "id": "VE21RZ9QLC2N"
      },
      "source": [
        "A comparação retorna o valor verdadeiro (True), uma vez que anteriormente havia sido atribuído à variável *ano* o valor 2021. No entanto:"
      ]
    },
    {
      "cell_type": "code",
      "metadata": {
        "id": "4GyyhR1BLMIQ",
        "colab": {
          "base_uri": "https://localhost:8080/"
        },
        "outputId": "53ca3aed-88f4-4008-89b1-5d75be221de4"
      },
      "source": [
        "mes == 11"
      ],
      "execution_count": null,
      "outputs": [
        {
          "output_type": "execute_result",
          "data": {
            "text/plain": [
              "False"
            ]
          },
          "metadata": {},
          "execution_count": 3
        }
      ]
    },
    {
      "cell_type": "markdown",
      "metadata": {
        "id": "mMbZrcU2LOyC"
      },
      "source": [
        "A segunda comparação retorna False, uma vez que o valor atribuído a mes havia sido 10."
      ]
    },
    {
      "cell_type": "markdown",
      "metadata": {
        "id": "i5ibvZSyLZKY"
      },
      "source": [
        "## Operadores\n",
        "\n",
        "Um segundo conceito importante em programação, e sobre o qual eu já fiz uma breve menção acima, é o de [*operador*](https://en.wikipedia.org/wiki/Operator_(computer_programming)). O operador é um comando de caráter especial aplicado a uma ou mais variáveis, e que resulta obrigatoriamente em uma nova variável ou na modificação do valor da variável. Os operadores assemelham-se muito a funções, e de fato há linguagens sem operadores; porém, usualmente eles são reservados como símbolos especiais, divididos em categorias elementares de funções estruturantes do algoritmo.\n",
        "\n",
        "Em Python, há uma classe especial de operadores, chamados aritméticos, que, por óbvio, executam operações aritméticas. São eles:\n",
        "\n",
        " * \\+ (adição)\n",
        " * \\- (substração)\n",
        " * / (divisão)\n",
        " * \\* (multiplicação)\n",
        " * ** (exponenciação)\n",
        " * \\// (divisão sem resto)\n",
        " * \\% (divisão modular)\n",
        "\n",
        "Os dois últimos operadores interessam especificamente à proposta de elaborar um algoritmo para mudança de base em Python.\n",
        "\n",
        "A divisão sem resto recebe como entrada o numerador e o denominador, e retorna o resultado da divisão aproximado para o inteiro inferior. Por exemplo:"
      ]
    },
    {
      "cell_type": "code",
      "metadata": {
        "id": "vNn22QusOrRP",
        "colab": {
          "base_uri": "https://localhost:8080/"
        },
        "outputId": "7b634ac9-3fcf-4cdb-9bfd-a4426786e268"
      },
      "source": [
        "semanas = 365/7\n",
        "print(semanas)\n",
        "\n",
        "semanas = 365//7\n",
        "print(semanas)"
      ],
      "execution_count": null,
      "outputs": [
        {
          "output_type": "stream",
          "name": "stdout",
          "text": [
            "52.142857142857146\n",
            "52\n"
          ]
        }
      ]
    },
    {
      "cell_type": "markdown",
      "metadata": {
        "id": "FELoRDojPibf"
      },
      "source": [
        "Observa-se que a divisão comum ('/') retorna o valor em número decimal, enquanto que a divisão sem resto ('//') retorna o valor em número inteiro, arredondado para baixo. No caso específico ilustrado acima, sabemos que o ano tem 52 semanas, e mais alguns dias. Para saber quantos dias \"restam\", podemos usar o operador de divisão modular, que exibe o resto de uma divisão (ou *módulo da divisão*):"
      ]
    },
    {
      "cell_type": "code",
      "metadata": {
        "colab": {
          "base_uri": "https://localhost:8080/"
        },
        "id": "yDcGzGqvebGE",
        "outputId": "f38f550b-4056-4473-e65e-5c9029d8a1f5"
      },
      "source": [
        "dias_restantes = 365%7\n",
        "print(dias_restantes)"
      ],
      "execution_count": null,
      "outputs": [
        {
          "output_type": "stream",
          "name": "stdout",
          "text": [
            "1\n"
          ]
        }
      ]
    },
    {
      "cell_type": "markdown",
      "metadata": {
        "id": "bEx9HzjWebYQ"
      },
      "source": [
        "O resto da divisão é portanto 1, indicando que após as 52 semanas do ano, ainda resta 1 dia. É por isso que, feita exceção aos anos bissextos, as datas (como os feriados) \"andam\" um dia da semana entre os anos. (O que é ua má notícia quando o ano que termina teve vários feriados de sexta-feira!)\n",
        "\n",
        "Nos exemplos de código acima, acionamos também a função print(), que \"imprime\" o resultado de uma variável, sendo muito utilizada em programas do tipo linha de comando para exibir valores computados ou informações para o usuário.\n",
        "\n",
        "## Bases numéricas\n",
        "\n",
        "Uma representação numérica adota convencionalmente uma *base numérica*, que é um conjunto de símbolos ou algarismos usados para representar quantidades.\n",
        "\n",
        "Evidências mostram que povos da antiguidade, e mesmo algumas sociedades tradicionais no presente, utilizam símbolos simples para representar quantidades, como traços ou pontos. Na evolução da linguagem matemática, contudo, as diferentes civilizações adotaram símbolos convencionais para identificar diferentes quantidades.\n",
        "\n",
        "Um problema surge quando é necessário representar quantidades que vão além do símbolo associado ao maior valor existente. Para contornar este problema, diferentes povos adotaram a chamada [*notação posicional*](https://pt.wikipedia.org/wiki/Nota%C3%A7%C3%A3o_posicional), na qual cada símbolo possui um valor associado tanto à quantia que representa *e também* à sua posição na composição do número. Essa notação é muito natural para nós, membros da sociedade ocidental, pois nosso sistema numérico, o *indo-arábico*, é posicional. Em nosso sistema de numeração, as chamadas casas decimais comportam algarismos de 0 a 9, e que possuem valor posicional igual à unidade, a 10, a 100, a 1000, e assim por diante, conforme a leitura se desloca da direita para esquerda. Assim, um número como 756 pode ser representado como:\n",
        "\n",
        "| Milhar | Centena | Dezena | Unidade |\n",
        "| --- | --- | --- | --- |\n",
        "| 0 | 7 | 5        | 6       |\n",
        "| 0 x 1000 | 7 * 100 | 5 * 10 | 6 * 1 |\n",
        "\n",
        "O milhar foi mantido apenas para ilustrar o valor do chamado \"zero à esquerda\", que poderia ser estendido indefinidamente para todas as demais casas. O algarismo 7 não representa nem 7 unidades, nem 100 unidades, mas sim 7\\*100 = 700. Assim, temos que tanto a quantidade associado ao algarismo quanto sua posição *compõe* a quantidade total representada no número.\n",
        "\n",
        "Supondo, por um instante, que não tívessemos familiaridade e raciocínio quase instantâneo para representar os números, qual seria o \"algoritmo\" usado para distribuir os símbolos nas diferentes casas decimais? Comecemos com um exemplo bem simples, o número associado aos dias do mês de outubro. Eu não vou escrevê-lo, porque estou supondo que não sei como dispôr os algarismos para identificar a quantia de *trinta e um dias*.\n",
        "\n",
        "Eu sei de antemão que os símbolos, em ordem crescente, são: 0, 1, 2, 3, 4, 5, 6, 7, 8 e 9. Eu sei também que a \"casa\" das unidades comporta até a representação de 9 dias, e que eu precisarei recorrer à dezena, pois tenho mais que 9 dias.\n",
        "\n",
        "Eu sei que cada símbolo que eu escrever na \"casa\" das dezenas representará aquela quantidade indicada pelo algarismo, multiplicada por 10. Então, como eu sei quantas dezenas eu devo escrever? Simplesmente dividindo o total por 10, sem resto:"
      ]
    },
    {
      "cell_type": "code",
      "metadata": {
        "colab": {
          "base_uri": "https://localhost:8080/"
        },
        "id": "93LnFjtWiYhw",
        "outputId": "7a4f9e84-24fd-43d8-f1a9-36157f07dd52"
      },
      "source": [
        "31 // 10"
      ],
      "execution_count": null,
      "outputs": [
        {
          "output_type": "execute_result",
          "data": {
            "text/plain": [
              "3"
            ]
          },
          "metadata": {},
          "execution_count": 6
        }
      ]
    },
    {
      "cell_type": "markdown",
      "metadata": {
        "id": "eqrfSOlZieag"
      },
      "source": [
        "(Ah não, eu escrevi 31... Mas a divisão serviu para \"confirmar\" que de fato é o algarismo 3. Fora do Python, você pode fazer essa divisão com seis mãos e 1 dedo, caso você seja um monstro; ou com algum procedimento de separar a quantia trinta e um em três grupos.)\n",
        "\n",
        "Então é só escrever 3 nas dezenas, mas quanto nas unidades? Peço que você continue supondo que não sabe muito bem como essa coisa de notação posicional funciona. O que \"sobra\" depois das 3 dezenas, é o resto da divisão de 31 por 10, que pode ser computado com a operação:"
      ]
    },
    {
      "cell_type": "code",
      "metadata": {
        "colab": {
          "base_uri": "https://localhost:8080/"
        },
        "id": "xfuv3YpFjhBQ",
        "outputId": "c2b149cd-e082-48f0-8511-d6b7f01eaac6"
      },
      "source": [
        "31 % 10"
      ],
      "execution_count": null,
      "outputs": [
        {
          "output_type": "execute_result",
          "data": {
            "text/plain": [
              "1"
            ]
          },
          "metadata": {},
          "execution_count": 7
        }
      ]
    },
    {
      "cell_type": "markdown",
      "metadata": {
        "id": "T-L-NNbMjjEC"
      },
      "source": [
        "Ou seja, de fato o número de dias do mês de outubro se escreve \"31\", e por sorte o Python utiliza essa base numérica, permitindo confirmar o que já sabemos, mas pudemos representar algoriticamente.\n",
        "\n",
        "## Outras bases\n",
        "\n",
        "### Octal\n",
        "\n",
        "Tudo que escrevi anteriormente pode ser muito maçante e óbvio, mas as coisas vão começar a complicar a partir daqui. Novamente, será preciso usar a imaginação. Suponha que você visita outro planeta, em que os seres possuem apenas 4 dedos em cada mão. Para estes indivíduos, o sistema decimal (ou seja, de 10 algarismos, 0 a 9) não seria tão familiar. Por uma evolução natural da linguagem matemática, associada ao primeiro instrumento de trabalho e comunicação de que o indivíduo dispõe - o próprio corpo -, o sistema de numeração guarda semelhança com as quantias capazes de serem representadas sem outros objetos. No caso dos alienígenas de 8 dedos, o sistema de numeração, ao invés de decimal, seria *octal* (de 8 algarismos).\n",
        "\n",
        "Vamos continuar supondo, e para facilitar a comunicação entre os diferentes povos do universo, suponha-se que os alienígenas usassem os mesmos primeiros 8 algarismos do sistema indo-arábico (0, 1, 2, 3, 4, 5, 6, 7). A *maior quantidade passível* de ser simbolizada por um único algarismo (em um sistema posicional e com uma casa) seria 7.\n",
        "\n",
        "Como representar o 8, então? Do mesmo modo como representamos a quantia de \"dez\" recorrendo a segunda casa decimal, os alienígenas recorreriam a esta mesma segunda casa (octal), assinalando um algarismo \"1\" seguido de \"0\", mas que, em consonância com o limite do total de algarismos disponíveis, e na lógica do sistema octal, representaria a quantia de 8 coisas. Podemos considerar esta segunda casa uma \"octena\":\n",
        "\n",
        "| Octena | Unidade |\n",
        "| --- | --- |\n",
        "| 1  | 0 |\n",
        "| 1 x 8 | 0 x 1 |\n",
        "\n",
        "O número representado é, portanto, 8 + 0 = 8 (em nosso sistema decimal).\n",
        "\n",
        "Do mesmo modo, o número representado por \"11\" seria equivalente a 8 + 1 = 9. O dez dos alienígenas seria \"12\": 1x8 + 2x1.\n",
        "\n",
        "*Cabe ressaltar que o uso dos algarismos indo-arábicos em um sistema de numeração não-decimal é arbitrário e pode causar confusão. Infelizmente, eu sou pouco criativo para criar símbolos, mas o raciocínio vale para quaisquer grupo de 8 algarismos; o que vale é destacar que a posição do símbolo e seu valor unitário é que **compõe** a quantidade representada.*\n",
        "\n",
        "\n",
        "### Hexadecimal\n",
        "\n",
        "A base hexadecimal ganha especial importância em computação pelo fato de que dois algarismos são capazes de representar o conteúdo de um *byte*. Um byte é uma unidade básica de armazenamento e comunicação entre computadores. Os bytes podem assumir valores entre 0 a 254, sendo esse intervalo utilizado em diferentes aplicações computacionais nas mais diversas áreas (por exemplo, o conjunto de caracteres padrão de muitos sistemas computacionais abrange 254 letras, números e símbolos, capazes de serem representados por um byte).\n",
        "\n",
        "Como o nome indica, a base hexadecimal utiliza 16 algarismos. Por convenção, são utilizados os 10 algarismos do sistema indo-arábico (0 a 9), além das seis primeiras letras do alfabeto ocidental (A até F). O algarismo correspondente a uma quantidade de dez é o \"A\", de onze é o \"B\" e assim por diante.\n",
        "\n",
        "A importância da base hexadecimal é tamanha que o próprio repertório de funções Python, por padrão, possui uma função de conversão - função hex(). Por exemplo, para converter o número 193 em hexadecimal, usamos:\n"
      ]
    },
    {
      "cell_type": "code",
      "metadata": {
        "colab": {
          "base_uri": "https://localhost:8080/",
          "height": 36
        },
        "id": "hyBCkLSxKicJ",
        "outputId": "77fd21d0-e0a3-4caf-a71f-c9357495f12d"
      },
      "source": [
        "hex(193)"
      ],
      "execution_count": null,
      "outputs": [
        {
          "output_type": "execute_result",
          "data": {
            "application/vnd.google.colaboratory.intrinsic+json": {
              "type": "string"
            },
            "text/plain": [
              "'0xc1'"
            ]
          },
          "metadata": {},
          "execution_count": 8
        }
      ]
    },
    {
      "cell_type": "markdown",
      "metadata": {
        "id": "RpBuvDkfKoH1"
      },
      "source": [
        "O resultado apresentado apresenta uma convenção de representação na parte do \"0x\". Esse prefixo é usado para indicar que segue-se um número em hexadecimal. Essa convenção veio da década de 1980, e [essa resposta aqui no Stack Overflow conta um pouco da sua história](https://pt.stackoverflow.com/questions/25031/o-que-significa-o-0x-no-in%C3%ADcio-dos-n%C3%BAmeros-hexadecimais). Já a parte \"c0\" indica o hexadecimal propriamente dito. O \"algarismo\" C representa o valor de 12, então:\n",
        "\n",
        "| 2a casa Hexadecimal | 1a casa Hexadecimal |\n",
        "| --- | --- |\n",
        "| C | 1 |\n",
        "| 12x16 | 1 |\n",
        "\n",
        "O resultado é 12x16 + 1 = 193, o número decimal originalmente convertido.\n",
        "\n",
        "## Notação\n",
        "\n",
        "Alguns exercícios irão especificar a base do número apresentado através de um índice em subscrito (fonte menor e abaixo da linha de base do texto), apresentado entre parênteses, que indica a base usada -- como no caso:\n",
        "\n",
        "193<sub>(10)</sub> = C1<sub>(16)</sub>\n",
        "\n",
        "## Algoritmo de conversão\n",
        "\n",
        "Para realizar a conversão de um número em decimal para outras bases, um algoritmo deve dividir sucessivamente o número original pelo número indicativo da base, verificando tanto o resultado da divisão quanto o resto. Se o resultado da divisão for maior que a própria base, deve-se continuar a proceder sucessivas divisões. Os restos, e não o resultado da divisão, é que são guardados e vão compor o número apresentado na base desejada.\n",
        "\n",
        "Exemplificando, para o número 193, temos:\n",
        "\n",
        "\n"
      ]
    },
    {
      "cell_type": "code",
      "metadata": {
        "colab": {
          "base_uri": "https://localhost:8080/"
        },
        "id": "CF0mY0X1NJbP",
        "outputId": "53320185-46ae-4977-eb1a-d0f7bd754b09"
      },
      "source": [
        "primeira_divisao = 193 // 16\n",
        "resto_primeira_divisao = 193 % 16\n",
        "\n",
        "print(primeira_divisao)\n",
        "print(resto_primeira_divisao)"
      ],
      "execution_count": null,
      "outputs": [
        {
          "output_type": "stream",
          "name": "stdout",
          "text": [
            "12\n",
            "1\n"
          ]
        }
      ]
    },
    {
      "cell_type": "markdown",
      "metadata": {
        "id": "CkBIv0tdNVAQ"
      },
      "source": [
        "O primeiro resto é 1, e esse é o algarismo mais à direita do número na nova base. Por quê mais à direita? Porque esse primeiro resto é o chamado *algarismo menos significativo*: ele é o restinho de uma divisão inicial, praticamente não faz diferença na grandeza do número. No caso exemplificado, se desprezássemos o dígito 1, o número representado C0 equivaleria a 192, ao invés de C1 = 193, ou seja, uma diferença de uma unidade... Em muitos contextos, essa diferença é desprezível, em outros, nem tanto - mas convencionalmente, o primeiro resto é o algarismo menos significativo e vai mais à direita do número.\n",
        "\n",
        "Alguns poderiam achar que o algarismo seguinte é o resultado/quociente da divisão, mas não é bem assim. Embora nesse caso tenha havido uma coincicêndia, o procedimento a se adotar é dividir novamente esse quociente pela base e anotar o resto, que será então o segundo algarismo menos significativo (ou seja, a segunda casa). Como o resto foi 12, e 12 dividido por 16 é igual a zero com resto 12, anotamos o resto da divisão, como algarismo da segunda casa hexadecimal:"
      ]
    },
    {
      "cell_type": "code",
      "metadata": {
        "colab": {
          "base_uri": "https://localhost:8080/"
        },
        "id": "Noh_mFpvPMoA",
        "outputId": "07ff8246-95b0-41ce-f4a7-d205f7699100"
      },
      "source": [
        "segunda_divisao = 12 // 16\n",
        "resto_segunda_divisao = 12 % 16\n",
        "\n",
        "print(segunda_divisao)\n",
        "print(resto_segunda_divisao)"
      ],
      "execution_count": null,
      "outputs": [
        {
          "output_type": "stream",
          "name": "stdout",
          "text": [
            "0\n",
            "12\n"
          ]
        }
      ]
    },
    {
      "cell_type": "markdown",
      "metadata": {
        "id": "nEuOwMZ6PV0v"
      },
      "source": [
        "Uma vez chegado ao zero no quociente, terminamos a conversão de base, e anotamos o novo número como C1 (sendo o \"algarismo\" C equivalente a doze unidades).\n",
        "\n",
        "Para um número maior, por exemplo 300, teríamos:"
      ]
    },
    {
      "cell_type": "code",
      "metadata": {
        "colab": {
          "base_uri": "https://localhost:8080/"
        },
        "id": "v7TOQOHIPqX1",
        "outputId": "dadeb209-8d04-44e7-b984-ac4c7ffeb19e"
      },
      "source": [
        "primeira_divisao = 300 // 16\n",
        "resto_primeira_divisao = 300 % 16\n",
        "\n",
        "segunda_divisao = primeira_divisao // 16\n",
        "resto_segunda_divisao = primeira_divisao % 16\n",
        "\n",
        "terceira_divisao = segunda_divisao // 16\n",
        "resto_terceira_divisao = segunda_divisao % 16\n",
        "\n",
        "print(\"--- Primeira divisão: quociente e resto ---\")\n",
        "print(primeira_divisao)\n",
        "print(resto_primeira_divisao)\n",
        "print(\"--- Segunda divisão: quociente e resto ---\")\n",
        "print(segunda_divisao)\n",
        "print(resto_segunda_divisao)\n",
        "print(\"--- Terceira divisão: quociente e resto ---\")\n",
        "print(terceira_divisao)\n",
        "print(resto_terceira_divisao)"
      ],
      "execution_count": null,
      "outputs": [
        {
          "output_type": "stream",
          "name": "stdout",
          "text": [
            "--- Primeira divisão: quociente e resto ---\n",
            "18\n",
            "12\n",
            "--- Segunda divisão: quociente e resto ---\n",
            "1\n",
            "2\n",
            "--- Terceira divisão: quociente e resto ---\n",
            "0\n",
            "1\n"
          ]
        }
      ]
    },
    {
      "cell_type": "markdown",
      "metadata": {
        "id": "UkfxMxjGQY03"
      },
      "source": [
        "(Usamos print() também para mostrar uma cadeia de texto, que sempre deve aparecer entre aspas, simples ou duplas. Qualquer texto que apareça sem aspas será tratado como variável, enquanto que textos entre aspas são as cadeias de texto, tão úteis em programação para interagir com o usuário.)\n",
        "\n",
        "Observar que simplifiquei o programa, usando o quociente da primeira divisão (que foi armazenado na variável \"primeira_divisao\") como numerador já na segunda divisão, e o da segunda, na terceira. É como se eu já passasse o 18 (quociente da primeira divisão) como numerador na segunda operação, e o 1, na terceira. A vantagem de trabalhar com variáveis é que eu já posso programar toda a sequência, sem precisar consultar o resultado da primeira divisão - qualquer resultado que seja, já alimenta a segunda operação.\n",
        "\n",
        "O resto da primeira divisão foi 12, equivalente ao \"algarismo\" C em hexadecimal. Já o resto da segunda divisão foi 2, algarismo 2 mesmo. E o da terceira foi 1. Então:\n",
        "\n",
        "300<sub>(10)</sub> = 12C<sub>(16)</sub>\n",
        "\n",
        "Conferindo com a função hex():"
      ]
    },
    {
      "cell_type": "code",
      "metadata": {
        "colab": {
          "base_uri": "https://localhost:8080/",
          "height": 36
        },
        "id": "oBOedFSYQ8FD",
        "outputId": "f60ccef4-dcd2-4132-fe51-c54fe920d822"
      },
      "source": [
        "hex(300)"
      ],
      "execution_count": null,
      "outputs": [
        {
          "output_type": "execute_result",
          "data": {
            "application/vnd.google.colaboratory.intrinsic+json": {
              "type": "string"
            },
            "text/plain": [
              "'0x12c'"
            ]
          },
          "metadata": {},
          "execution_count": 12
        }
      ]
    },
    {
      "cell_type": "markdown",
      "metadata": {
        "id": "0d1CnEkoSdZl"
      },
      "source": [
        "Espero que esse pequeno artigo tenha ajudado. Com relação à programação Python, você pode praticar um pouco instalando o ambiente Python em seu computador e entrando no console (comando \"python\" ou \"python3\"), que é um modo interativo de programar: você digita os comandos, e o interpretador fornece respostas. Baixe agora mesmo o ambiente Python em https://www.python.org/."
      ]
    }
  ]
}